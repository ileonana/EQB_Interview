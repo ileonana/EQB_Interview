{
 "cells": [
  {
   "cell_type": "code",
   "execution_count": 1,
   "metadata": {},
   "outputs": [],
   "source": [
    "import numpy as np\n",
    "import pandas as pd\n",
    "\n",
    "\n",
    "# load and merge data into final file\n",
    "raw_df = pd.read_csv('origination_volumes.csv')\n",
    "rates_df = pd.read_csv('loss_rates.csv')\n",
    "final_df = pd.merge(left=raw_df, right=rates_df, left_on=['Reporting Date','Portfolio'], right_on=['period', 'portfolio'])"
   ]
  },
  {
   "cell_type": "code",
   "execution_count": 2,
   "metadata": {},
   "outputs": [],
   "source": [
    "# calculate predicted loss = loan value * expected lose rate \n",
    "final_df ['predicted_losses'] = final_df ['Total Loan Value Originated ($)'] * final_df ['expected_losses'] "
   ]
  },
  {
   "cell_type": "code",
   "execution_count": 3,
   "metadata": {},
   "outputs": [],
   "source": [
    "#Tag the targeted year and summrize\n",
    "final_df ['filter'] = final_df['Reporting Date'].str.contains('2016', case=False, na='1')\n",
    "target_df= final_df.groupby('filter')['predicted_losses'].sum()"
   ]
  },
  {
   "cell_type": "code",
   "execution_count": 4,
   "metadata": {},
   "outputs": [],
   "source": [
    "#Export the result\n",
    "with pd.ExcelWriter('2016.xlsx') as outputfile:\n",
    "    final_df.to_excel(outputfile, sheet_name='Final', index = False)\n",
    "    target_df.to_excel(outputfile, sheet_name='Output')"
   ]
  }
 ],
 "metadata": {
  "kernelspec": {
   "display_name": "EQB_Interview",
   "language": "python",
   "name": "python3"
  },
  "language_info": {
   "codemirror_mode": {
    "name": "ipython",
    "version": 3
   },
   "file_extension": ".py",
   "mimetype": "text/x-python",
   "name": "python",
   "nbconvert_exporter": "python",
   "pygments_lexer": "ipython3",
   "version": "3.9.16"
  },
  "orig_nbformat": 4,
  "vscode": {
   "interpreter": {
    "hash": "edd2a04cb6cd3baab2402b9bbe494d88c45d67cad384a5b56beaf23e057df13e"
   }
  }
 },
 "nbformat": 4,
 "nbformat_minor": 2
}
